{
  "nbformat": 4,
  "nbformat_minor": 0,
  "metadata": {
    "colab": {
      "name": "Spark_Practice2_hw-titanic.ipynb",
      "provenance": [],
      "collapsed_sections": []
    },
    "kernelspec": {
      "name": "python3",
      "display_name": "Python 3"
    }
  },
  "cells": [
    {
      "cell_type": "code",
      "metadata": {
        "id": "d4M4Z0nShzFp",
        "cellView": "both"
      },
      "source": [
        "!apt-get install openjdk-8-jdk-headless -qq > /dev/null"
      ],
      "execution_count": null,
      "outputs": []
    },
    {
      "cell_type": "code",
      "metadata": {
        "id": "-0Vd_6bEh1N_",
        "cellView": "both"
      },
      "source": [
        "!wget -q www-us.apache.org/dist/spark/spark-2.4.5/spark-2.4.5-bin-hadoop2.7.tgz"
      ],
      "execution_count": null,
      "outputs": []
    },
    {
      "cell_type": "code",
      "metadata": {
        "id": "vwfA5qXyh2wk",
        "cellView": "both"
      },
      "source": [
        "!tar -xvf spark-2.4.5-bin-hadoop2.7.tgz"
      ],
      "execution_count": null,
      "outputs": []
    },
    {
      "cell_type": "code",
      "metadata": {
        "id": "qN78xI2Ah4AA",
        "cellView": "both"
      },
      "source": [
        "!pip install -q findspark"
      ],
      "execution_count": null,
      "outputs": []
    },
    {
      "cell_type": "code",
      "metadata": {
        "id": "CgKVxnQnh52S",
        "cellView": "both"
      },
      "source": [
        "import os\n",
        "os.environ[\"JAVA_HOME\"] = \"/usr/lib/jvm/java-8-openjdk-amd64\"\n",
        "os.environ[\"SPARK_HOME\"] = \"/content/spark-2.4.5-bin-hadoop2.7\""
      ],
      "execution_count": null,
      "outputs": []
    },
    {
      "cell_type": "code",
      "metadata": {
        "id": "TL0Uk0Cxh7Kt",
        "cellView": "both"
      },
      "source": [
        "import findspark\n",
        "findspark.init()\n",
        "from pyspark.sql import SparkSession\n",
        "\n",
        "spark = SparkSession.builder.master(\"local[*]\").getOrCreate()"
      ],
      "execution_count": null,
      "outputs": []
    },
    {
      "cell_type": "markdown",
      "metadata": {
        "id": "obwnZJkDkVNe"
      },
      "source": [
        "**Домашнее задание**\n",
        "\n",
        "2 варианта.\n",
        "\n",
        "Вариант легкий: \n",
        "Решите задачу классификации цветков ирисов с использованием PySpark\n",
        "\n",
        "Вариант сложный: \n",
        "Решите задачу классификации пассажиров титаника с использованием PySpark (https://www.kaggle.com/c/titanic)\n",
        "\n",
        "При выполнении ДЗ не разрешается:\n",
        "* Использовать библиотеку pandas\n",
        "* Использовать библиотеку sklearn\n",
        "\n",
        "Полезные импорты:\n",
        "* from pyspark.ml.classification import LogisticRegression\n",
        "* from pyspark.ml.evaluation import MulticlassClassificationEvaluator - для оценки качества работы алгоритма\n",
        "* from pyspark.ml.feature import StringIndexer, OneHotEncoder, VectorAssembler - для предобработки признаков\n",
        "\n",
        "Полезные ссылки:\n",
        "\n",
        "https://spark.apache.org/docs/latest/ml-classification-regression.html#classification - алгоримты классификации в pyspark\n",
        "\n",
        "https://towardsdatascience.com/machine-learning-with-pyspark-and-mllib-solving-a-binary-classification-problem-96396065d2aa - пример решения задачи классификации на pyspark"
      ]
    },
    {
      "cell_type": "code",
      "metadata": {
        "id": "JOtw1ZcnUrCt"
      },
      "source": [
        "from pyspark.ml.feature import StringIndexer, OneHotEncoderEstimator, VectorAssembler # для предобработки признаков\n",
        "from pyspark.ml import Pipeline\n",
        "from pyspark.ml.classification import LogisticRegression\n",
        "from pyspark.ml.evaluation import MulticlassClassificationEvaluator # для оценки качества работы алгоритма\n",
        "from pyspark.sql.functions import mean, when, lit\n",
        "import pyspark.sql.functions as f\n"
      ],
      "execution_count": null,
      "outputs": []
    },
    {
      "cell_type": "markdown",
      "metadata": {
        "id": "9FnARKigjLB9"
      },
      "source": [
        "**Titanic Dataset**"
      ]
    },
    {
      "cell_type": "code",
      "metadata": {
        "id": "2DNAZUq4jyTT"
      },
      "source": [
        "# массив уже разделен на обучающую выборку и выборку для проверки модели:\n",
        "train = spark.read.csv('train.csv', inferSchema=True, header=True)\n",
        "test = spark.read.csv('test.csv', inferSchema=True, header=True)"
      ],
      "execution_count": null,
      "outputs": []
    },
    {
      "cell_type": "code",
      "metadata": {
        "id": "xHm4zBW4jyTm",
        "colab": {
          "base_uri": "https://localhost:8080/",
          "height": 255
        },
        "outputId": "b60c7e8e-5f3e-4478-fc37-b78d37053a1e"
      },
      "source": [
        "train.printSchema()"
      ],
      "execution_count": null,
      "outputs": [
        {
          "output_type": "stream",
          "text": [
            "root\n",
            " |-- PassengerId: integer (nullable = true)\n",
            " |-- Survived: integer (nullable = true)\n",
            " |-- Pclass: integer (nullable = true)\n",
            " |-- Name: string (nullable = true)\n",
            " |-- Sex: string (nullable = true)\n",
            " |-- Age: double (nullable = true)\n",
            " |-- SibSp: integer (nullable = true)\n",
            " |-- Parch: integer (nullable = true)\n",
            " |-- Ticket: string (nullable = true)\n",
            " |-- Fare: double (nullable = true)\n",
            " |-- Cabin: string (nullable = true)\n",
            " |-- Embarked: string (nullable = true)\n",
            "\n"
          ],
          "name": "stdout"
        }
      ]
    },
    {
      "cell_type": "markdown",
      "metadata": {
        "id": "-dJDpgO4kol9"
      },
      "source": [
        "* Survived: выживание (0 = нет; 1 = да)\n",
        "* Pclass:\tкласс, которым следовал пассажир (1 = 1st (upper); 2 = 2nd (middle); 3 = 3rd (lower))\n",
        "* Name:\tимя\n",
        "* Sex:\tпол\n",
        "* Age: возраст\n",
        "* SibS:\tколичество братьев (сестер) / супругов на борту\n",
        "* Parch:\tколичество родителей / детей на борту\n",
        "* Ticket:\tномер билета\n",
        "* Fare:\tпассажирский тариф\n",
        "* Cabin:\tномер каюты\n",
        "* Embarked: порт посадки (C = Cherbourg; Q = Queenstown; S = Southampton)\n"
      ]
    },
    {
      "cell_type": "code",
      "metadata": {
        "id": "pbU1FDCCjyTr",
        "colab": {
          "base_uri": "https://localhost:8080/",
          "height": 170
        },
        "outputId": "836f79ad-cdf4-47c9-f7e7-417298fa3016"
      },
      "source": [
        "train.show(3)"
      ],
      "execution_count": null,
      "outputs": [
        {
          "output_type": "stream",
          "text": [
            "+-----------+--------+------+--------------------+------+----+-----+-----+----------------+-------+-----+--------+\n",
            "|PassengerId|Survived|Pclass|                Name|   Sex| Age|SibSp|Parch|          Ticket|   Fare|Cabin|Embarked|\n",
            "+-----------+--------+------+--------------------+------+----+-----+-----+----------------+-------+-----+--------+\n",
            "|          1|       0|     3|Braund, Mr. Owen ...|  male|22.0|    1|    0|       A/5 21171|   7.25| null|       S|\n",
            "|          2|       1|     1|Cumings, Mrs. Joh...|female|38.0|    1|    0|        PC 17599|71.2833|  C85|       C|\n",
            "|          3|       1|     3|Heikkinen, Miss. ...|female|26.0|    0|    0|STON/O2. 3101282|  7.925| null|       S|\n",
            "+-----------+--------+------+--------------------+------+----+-----+-----+----------------+-------+-----+--------+\n",
            "only showing top 3 rows\n",
            "\n"
          ],
          "name": "stdout"
        }
      ]
    },
    {
      "cell_type": "code",
      "metadata": {
        "id": "Hkkjpje_Vwcx",
        "colab": {
          "base_uri": "https://localhost:8080/",
          "height": 238
        },
        "outputId": "be7e2c53-950d-4781-fbcd-0a668a11a6ec"
      },
      "source": [
        "test.printSchema()"
      ],
      "execution_count": null,
      "outputs": [
        {
          "output_type": "stream",
          "text": [
            "root\n",
            " |-- PassengerId: integer (nullable = true)\n",
            " |-- Pclass: integer (nullable = true)\n",
            " |-- Name: string (nullable = true)\n",
            " |-- Sex: string (nullable = true)\n",
            " |-- Age: double (nullable = true)\n",
            " |-- SibSp: integer (nullable = true)\n",
            " |-- Parch: integer (nullable = true)\n",
            " |-- Ticket: string (nullable = true)\n",
            " |-- Fare: double (nullable = true)\n",
            " |-- Cabin: string (nullable = true)\n",
            " |-- Embarked: string (nullable = true)\n",
            "\n"
          ],
          "name": "stdout"
        }
      ]
    },
    {
      "cell_type": "code",
      "metadata": {
        "id": "T-sZmAW6qvbd",
        "colab": {
          "base_uri": "https://localhost:8080/",
          "height": 170
        },
        "outputId": "19e8cbed-21df-4a36-f668-10aa174b472a"
      },
      "source": [
        "test.show(3)"
      ],
      "execution_count": null,
      "outputs": [
        {
          "output_type": "stream",
          "text": [
            "+-----------+------+--------------------+------+----+-----+-----+------+------+-----+--------+\n",
            "|PassengerId|Pclass|                Name|   Sex| Age|SibSp|Parch|Ticket|  Fare|Cabin|Embarked|\n",
            "+-----------+------+--------------------+------+----+-----+-----+------+------+-----+--------+\n",
            "|        892|     3|    Kelly, Mr. James|  male|34.5|    0|    0|330911|7.8292| null|       Q|\n",
            "|        893|     3|Wilkes, Mrs. Jame...|female|47.0|    1|    0|363272|   7.0| null|       S|\n",
            "|        894|     2|Myles, Mr. Thomas...|  male|62.0|    0|    0|240276|9.6875| null|       Q|\n",
            "+-----------+------+--------------------+------+----+-----+-----+------+------+-----+--------+\n",
            "only showing top 3 rows\n",
            "\n"
          ],
          "name": "stdout"
        }
      ]
    },
    {
      "cell_type": "markdown",
      "metadata": {
        "id": "WDy1wGyCx1-W"
      },
      "source": [
        "Missing values"
      ]
    },
    {
      "cell_type": "code",
      "metadata": {
        "id": "zTYgSXbdjyTu",
        "colab": {
          "base_uri": "https://localhost:8080/",
          "height": 207
        },
        "outputId": "6f1cc5f6-a2ab-4f0f-8917-63c053366b8d"
      },
      "source": [
        "# для обучающей выборки основные статистики и наличие пропущенных значений (null)\n",
        "train.describe().show()"
      ],
      "execution_count": null,
      "outputs": [
        {
          "output_type": "stream",
          "text": [
            "+-------+-----------------+-------------------+------------------+--------------------+------+------------------+------------------+-------------------+------------------+-----------------+-----+--------+\n",
            "|summary|      PassengerId|           Survived|            Pclass|                Name|   Sex|               Age|             SibSp|              Parch|            Ticket|             Fare|Cabin|Embarked|\n",
            "+-------+-----------------+-------------------+------------------+--------------------+------+------------------+------------------+-------------------+------------------+-----------------+-----+--------+\n",
            "|  count|              891|                891|               891|                 891|   891|               714|               891|                891|               891|              891|  204|     889|\n",
            "|   mean|            446.0| 0.3838383838383838| 2.308641975308642|                null|  null| 29.69911764705882|0.5230078563411896|0.38159371492704824|260318.54916792738| 32.2042079685746| null|    null|\n",
            "| stddev|257.3538420152301|0.48659245426485753|0.8360712409770491|                null|  null|14.526497332334035|1.1027434322934315| 0.8060572211299488|471609.26868834975|49.69342859718089| null|    null|\n",
            "|    min|                1|                  0|                 1|\"Andersson, Mr. A...|female|              0.42|                 0|                  0|            110152|              0.0|  A10|       C|\n",
            "|    max|              891|                  1|                 3|van Melkebeke, Mr...|  male|              80.0|                 8|                  6|         WE/P 5735|         512.3292|    T|       S|\n",
            "+-------+-----------------+-------------------+------------------+--------------------+------+------------------+------------------+-------------------+------------------+-----------------+-----+--------+\n",
            "\n"
          ],
          "name": "stdout"
        }
      ]
    },
    {
      "cell_type": "code",
      "metadata": {
        "id": "m1WbGRdmVemb",
        "colab": {
          "base_uri": "https://localhost:8080/",
          "height": 119
        },
        "outputId": "c6cbf4d0-2880-419a-b55e-a59f3b241e38"
      },
      "source": [
        "# пропущенные значения содержатся в столбцах Age, Cabin, Embarked, можно вывести их количество:\n",
        "train_agg = train.agg(*[f.count(f.when(f.isnull(c), c)).alias(c) for c in train.columns]) # кол-во значений null по столбцам\n",
        "train_agg.show()"
      ],
      "execution_count": null,
      "outputs": [
        {
          "output_type": "stream",
          "text": [
            "+-----------+--------+------+----+---+---+-----+-----+------+----+-----+--------+\n",
            "|PassengerId|Survived|Pclass|Name|Sex|Age|SibSp|Parch|Ticket|Fare|Cabin|Embarked|\n",
            "+-----------+--------+------+----+---+---+-----+-----+------+----+-----+--------+\n",
            "|          0|       0|     0|   0|  0|177|    0|    0|     0|   0|  687|       2|\n",
            "+-----------+--------+------+----+---+---+-----+-----+------+----+-----+--------+\n",
            "\n"
          ],
          "name": "stdout"
        }
      ]
    },
    {
      "cell_type": "code",
      "metadata": {
        "id": "IxGi3ERorzUO",
        "colab": {
          "base_uri": "https://localhost:8080/",
          "height": 153
        },
        "outputId": "8e6422ae-b378-42df-fd4d-57936ea6a79c"
      },
      "source": [
        "# выживаемость пассажиров зависит от класса каюты:\n",
        "survived_pclass = train.groupby('Pclass').pivot('Survived').count()\n",
        "survived_pclass.show()"
      ],
      "execution_count": null,
      "outputs": [
        {
          "output_type": "stream",
          "text": [
            "+------+---+---+\n",
            "|Pclass|  0|  1|\n",
            "+------+---+---+\n",
            "|     1| 80|136|\n",
            "|     3|372|119|\n",
            "|     2| 97| 87|\n",
            "+------+---+---+\n",
            "\n"
          ],
          "name": "stdout"
        }
      ]
    },
    {
      "cell_type": "code",
      "metadata": {
        "id": "8sXQq0XxYRDs",
        "colab": {
          "base_uri": "https://localhost:8080/",
          "height": 153
        },
        "outputId": "ddaa3ae8-dbe5-4f0a-f180-197980710503"
      },
      "source": [
        "survived_pclass.withColumn('percent', survived_pclass['1']/(survived_pclass['0']+survived_pclass['1']))\\\n",
        ".orderBy('percent', ascending=False).show()\n",
        "# или:\n",
        "# survived_pclass.withColumn('total', sum(survived_pclass[col] for col in survived_pclass.columns))\\\n",
        "# .withColumn('percent', f.col('1')/f.col('total'))\\\n",
        "# .orderBy('percent', ascending=False).show()"
      ],
      "execution_count": null,
      "outputs": [
        {
          "output_type": "stream",
          "text": [
            "+------+---+---+-------------------+\n",
            "|Pclass|  0|  1|            percent|\n",
            "+------+---+---+-------------------+\n",
            "|     1| 80|136| 0.6296296296296297|\n",
            "|     2| 97| 87|0.47282608695652173|\n",
            "|     3|372|119|0.24236252545824846|\n",
            "+------+---+---+-------------------+\n",
            "\n"
          ],
          "name": "stdout"
        }
      ]
    },
    {
      "cell_type": "code",
      "metadata": {
        "id": "GVuWe4U7BSng",
        "colab": {
          "base_uri": "https://localhost:8080/",
          "height": 136
        },
        "outputId": "eb7b9bf6-7251-44e1-b117-b8363254fc00"
      },
      "source": [
        "# выживаемость пассажиров зависит от пола:\n",
        "survived_sex = train.groupby('Sex').pivot('Survived').count()\n",
        "survived_sex.show()"
      ],
      "execution_count": null,
      "outputs": [
        {
          "output_type": "stream",
          "text": [
            "+------+---+---+\n",
            "|   Sex|  0|  1|\n",
            "+------+---+---+\n",
            "|female| 81|233|\n",
            "|  male|468|109|\n",
            "+------+---+---+\n",
            "\n"
          ],
          "name": "stdout"
        }
      ]
    },
    {
      "cell_type": "code",
      "metadata": {
        "id": "PE6RERF43w1n",
        "colab": {
          "base_uri": "https://localhost:8080/",
          "height": 136
        },
        "outputId": "6b7e9b61-7265-41cf-ebf2-e9075bdde343"
      },
      "source": [
        "survived_sex.withColumn('percent', survived_sex['1']/(survived_sex['0']+survived_sex['1'])).show()"
      ],
      "execution_count": null,
      "outputs": [
        {
          "output_type": "stream",
          "text": [
            "+------+---+---+-------------------+\n",
            "|   Sex|  0|  1|            percent|\n",
            "+------+---+---+-------------------+\n",
            "|female| 81|233| 0.7420382165605095|\n",
            "|  male|468|109|0.18890814558058924|\n",
            "+------+---+---+-------------------+\n",
            "\n"
          ],
          "name": "stdout"
        }
      ]
    },
    {
      "cell_type": "code",
      "metadata": {
        "id": "seUyDbahGVTh",
        "colab": {
          "base_uri": "https://localhost:8080/",
          "height": 204
        },
        "outputId": "d4dc1c41-26b4-434d-c681-d28eb04c53ab"
      },
      "source": [
        "#  рассчитаем ср. возраст в зависимости от пола пассажиров и класса каюты, чтобы заместить пропущенные значения:\n",
        "train.groupBy('Pclass', 'Sex').agg({'Age': 'mean'}).orderBy('Pclass','Sex').show()"
      ],
      "execution_count": null,
      "outputs": [
        {
          "output_type": "stream",
          "text": [
            "+------+------+------------------+\n",
            "|Pclass|   Sex|          avg(Age)|\n",
            "+------+------+------------------+\n",
            "|     1|female| 34.61176470588235|\n",
            "|     1|  male| 41.28138613861386|\n",
            "|     2|female|28.722972972972972|\n",
            "|     2|  male| 30.74070707070707|\n",
            "|     3|female|             21.75|\n",
            "|     3|  male|26.507588932806325|\n",
            "+------+------+------------------+\n",
            "\n"
          ],
          "name": "stdout"
        }
      ]
    },
    {
      "cell_type": "code",
      "metadata": {
        "id": "jEwP9ThUGfLY",
        "colab": {
          "base_uri": "https://localhost:8080/",
          "height": 459
        },
        "outputId": "aea7ef1d-d0c8-439c-ebde-d79090c0cb62"
      },
      "source": [
        "# заменяем пропущенные значения Age, создав новую колонку: \n",
        "train_ = train.withColumn('Age_', f.when((f.col('Age').isNull()) & (f.col('Pclass') == 1) & (f.col('Sex') == 'female'), 34.6)\\\n",
        "                          .when((f.col('Age').isNull()) & (f.col('Pclass') == 1) & (f.col('Sex') == 'male'), 41.3)\\\n",
        "                          .when((f.col('Age').isNull()) & (f.col('Pclass') == 2) & (f.col('Sex') == 'female'), 28.7)\\\n",
        "                          .when((f.col('Age').isNull()) & (f.col('Pclass') == 2) & (f.col('Sex') == 'male'), 30.7)\\\n",
        "                          .when((f.col('Age').isNull()) & (f.col('Pclass') == 3) & (f.col('Sex') == 'female'), 21.8)\\\n",
        "                          .when((f.col('Age').isNull()) & (f.col('Pclass') == 3) & (f.col('Sex') == 'male'), 26.5)\\\n",
        "                          .otherwise(f.col('Age')))\n",
        "train_.where((train_['Age'].isNull())).show()"
      ],
      "execution_count": null,
      "outputs": [
        {
          "output_type": "stream",
          "text": [
            "+-----------+--------+------+--------------------+------+----+-----+-----+---------------+--------+-----+--------+----+\n",
            "|PassengerId|Survived|Pclass|                Name|   Sex| Age|SibSp|Parch|         Ticket|    Fare|Cabin|Embarked|Age_|\n",
            "+-----------+--------+------+--------------------+------+----+-----+-----+---------------+--------+-----+--------+----+\n",
            "|          6|       0|     3|    Moran, Mr. James|  male|null|    0|    0|         330877|  8.4583| null|       Q|26.5|\n",
            "|         18|       1|     2|Williams, Mr. Cha...|  male|null|    0|    0|         244373|    13.0| null|       S|30.7|\n",
            "|         20|       1|     3|Masselmani, Mrs. ...|female|null|    0|    0|           2649|   7.225| null|       C|21.8|\n",
            "|         27|       0|     3|Emir, Mr. Farred ...|  male|null|    0|    0|           2631|   7.225| null|       C|26.5|\n",
            "|         29|       1|     3|\"O'Dwyer, Miss. E...|female|null|    0|    0|         330959|  7.8792| null|       Q|21.8|\n",
            "|         30|       0|     3| Todoroff, Mr. Lalio|  male|null|    0|    0|         349216|  7.8958| null|       S|26.5|\n",
            "|         32|       1|     1|Spencer, Mrs. Wil...|female|null|    1|    0|       PC 17569|146.5208|  B78|       C|34.6|\n",
            "|         33|       1|     3|Glynn, Miss. Mary...|female|null|    0|    0|         335677|    7.75| null|       Q|21.8|\n",
            "|         37|       1|     3|    Mamee, Mr. Hanna|  male|null|    0|    0|           2677|  7.2292| null|       C|26.5|\n",
            "|         43|       0|     3| Kraeff, Mr. Theodor|  male|null|    0|    0|         349253|  7.8958| null|       C|26.5|\n",
            "|         46|       0|     3|Rogers, Mr. Willi...|  male|null|    0|    0|S.C./A.4. 23567|    8.05| null|       S|26.5|\n",
            "|         47|       0|     3|   Lennon, Mr. Denis|  male|null|    1|    0|         370371|    15.5| null|       Q|26.5|\n",
            "|         48|       1|     3|O'Driscoll, Miss....|female|null|    0|    0|          14311|    7.75| null|       Q|21.8|\n",
            "|         49|       0|     3| Samaan, Mr. Youssef|  male|null|    2|    0|           2662| 21.6792| null|       C|26.5|\n",
            "|         56|       1|     1|   Woolner, Mr. Hugh|  male|null|    0|    0|          19947|    35.5|  C52|       S|41.3|\n",
            "|         65|       0|     1|Stewart, Mr. Albe...|  male|null|    0|    0|       PC 17605| 27.7208| null|       C|41.3|\n",
            "|         66|       1|     3|Moubarek, Master....|  male|null|    1|    1|           2661| 15.2458| null|       C|26.5|\n",
            "|         77|       0|     3|   Staneff, Mr. Ivan|  male|null|    0|    0|         349208|  7.8958| null|       S|26.5|\n",
            "|         78|       0|     3|Moutal, Mr. Raham...|  male|null|    0|    0|         374746|    8.05| null|       S|26.5|\n",
            "|         83|       1|     3|McDermott, Miss. ...|female|null|    0|    0|         330932|  7.7875| null|       Q|21.8|\n",
            "+-----------+--------+------+--------------------+------+----+-----+-----+---------------+--------+-----+--------+----+\n",
            "only showing top 20 rows\n",
            "\n"
          ],
          "name": "stdout"
        }
      ]
    },
    {
      "cell_type": "code",
      "metadata": {
        "id": "JDc3XxzsLB5-",
        "colab": {
          "base_uri": "https://localhost:8080/",
          "height": 34
        },
        "outputId": "881171da-46cf-4d9f-ea4b-45adf9350775"
      },
      "source": [
        "# наиболее распространненый среди пассажиров порт посадки (Embarked): S = Southampton\n",
        "train.groupby('Embarked').count().orderBy('count', ascending=False).first()[0]"
      ],
      "execution_count": null,
      "outputs": [
        {
          "output_type": "execute_result",
          "data": {
            "text/plain": [
              "'S'"
            ]
          },
          "metadata": {
            "tags": []
          },
          "execution_count": 23
        }
      ]
    },
    {
      "cell_type": "code",
      "metadata": {
        "id": "EtFdw1medoFi"
      },
      "source": [
        "train_ = train_.withColumn('Embarked_', f.when(f.col('Embarked').isNull(), 'S').otherwise(f.col('Embarked')))"
      ],
      "execution_count": null,
      "outputs": []
    },
    {
      "cell_type": "code",
      "metadata": {
        "id": "MMSQXO-hdOTE",
        "colab": {
          "base_uri": "https://localhost:8080/",
          "height": 207
        },
        "outputId": "ab948a16-4910-4d61-b3be-7e1f0ef7baa8"
      },
      "source": [
        "train_.describe().show()"
      ],
      "execution_count": null,
      "outputs": [
        {
          "output_type": "stream",
          "text": [
            "+-------+-----------------+-------------------+------------------+--------------------+------+------------------+------------------+-------------------+------------------+-----------------+-----+--------+------------------+---------+\n",
            "|summary|      PassengerId|           Survived|            Pclass|                Name|   Sex|               Age|             SibSp|              Parch|            Ticket|             Fare|Cabin|Embarked|              Age_|Embarked_|\n",
            "+-------+-----------------+-------------------+------------------+--------------------+------+------------------+------------------+-------------------+------------------+-----------------+-----+--------+------------------+---------+\n",
            "|  count|              891|                891|               891|                 891|   891|               714|               891|                891|               891|              891|  204|     889|               891|      891|\n",
            "|   mean|            446.0| 0.3838383838383838| 2.308641975308642|                null|  null| 29.69911764705882|0.5230078563411896|0.38159371492704824|260318.54916792738| 32.2042079685746| null|    null|29.320056116722757|     null|\n",
            "| stddev|257.3538420152301|0.48659245426485753|0.8360712409770491|                null|  null|14.526497332334035|1.1027434322934315| 0.8060572211299488|471609.26868834975|49.69342859718089| null|    null|13.280239781289076|     null|\n",
            "|    min|                1|                  0|                 1|\"Andersson, Mr. A...|female|              0.42|                 0|                  0|            110152|              0.0|  A10|       C|              0.42|        C|\n",
            "|    max|              891|                  1|                 3|van Melkebeke, Mr...|  male|              80.0|                 8|                  6|         WE/P 5735|         512.3292|    T|       S|              80.0|        S|\n",
            "+-------+-----------------+-------------------+------------------+--------------------+------+------------------+------------------+-------------------+------------------+-----------------+-----+--------+------------------+---------+\n",
            "\n"
          ],
          "name": "stdout"
        }
      ]
    },
    {
      "cell_type": "code",
      "metadata": {
        "id": "btAMqQGxPgBh",
        "colab": {
          "base_uri": "https://localhost:8080/",
          "height": 34
        },
        "outputId": "cfb7e78d-f343-4a53-a067-a6b55b04e31e"
      },
      "source": [
        "# есть еще и Fare = 0, но неизвестно, является ли это ошибкой, поэтому оставляем без изменений\n",
        "train.where((train['Fare'] == 0)).count()\n",
        "# train.where((train['Fare'] == 0)).show()"
      ],
      "execution_count": null,
      "outputs": [
        {
          "output_type": "execute_result",
          "data": {
            "text/plain": [
              "15"
            ]
          },
          "metadata": {
            "tags": []
          },
          "execution_count": 26
        }
      ]
    },
    {
      "cell_type": "code",
      "metadata": {
        "id": "ZrGUlxCvq7yC",
        "colab": {
          "base_uri": "https://localhost:8080/",
          "height": 187
        },
        "outputId": "45333341-da1b-419f-99e2-b81ac8809329"
      },
      "source": [
        "# для тестовой выборки основные статистики и полнота данных:\n",
        "test.describe().show()"
      ],
      "execution_count": null,
      "outputs": [
        {
          "output_type": "stream",
          "text": [
            "+-------+------------------+------------------+--------------------+------+------------------+------------------+------------------+------------------+------------------+-----+--------+\n",
            "|summary|       PassengerId|            Pclass|                Name|   Sex|               Age|             SibSp|             Parch|            Ticket|              Fare|Cabin|Embarked|\n",
            "+-------+------------------+------------------+--------------------+------+------------------+------------------+------------------+------------------+------------------+-----+--------+\n",
            "|  count|               418|               418|                 418|   418|               332|               418|               418|               418|               417|   91|     418|\n",
            "|   mean|            1100.5|2.2655502392344498|                null|  null|30.272590361445783|0.4473684210526316|0.3923444976076555|223850.98986486485|  35.6271884892086| null|    null|\n",
            "| stddev|120.81045760473994|0.8418375519640503|                null|  null|14.181209235624424|0.8967595611217135|0.9814288785371694| 369523.7764694362|55.907576179973844| null|    null|\n",
            "|    min|               892|                 1|\"Assaf Khalil, Mr...|female|              0.17|                 0|                 0|            110469|               0.0|  A11|       C|\n",
            "|    max|              1309|                 3|van Billiard, Mas...|  male|              76.0|                 8|                 9|       W.E.P. 5734|          512.3292|   G6|       S|\n",
            "+-------+------------------+------------------+--------------------+------+------------------+------------------+------------------+------------------+------------------+-----+--------+\n",
            "\n"
          ],
          "name": "stdout"
        }
      ]
    },
    {
      "cell_type": "code",
      "metadata": {
        "id": "p1WhoX6jVz_4",
        "colab": {
          "base_uri": "https://localhost:8080/",
          "height": 119
        },
        "outputId": "2a197847-414b-4ae5-e527-d0f10e50a114"
      },
      "source": [
        "test_agg = test.agg(*[f.count(f.when(f.isnull(c), c)).alias(c) for c in test.columns])\n",
        "test_agg.show()"
      ],
      "execution_count": null,
      "outputs": [
        {
          "output_type": "stream",
          "text": [
            "+-----------+------+----+---+---+-----+-----+------+----+-----+--------+\n",
            "|PassengerId|Pclass|Name|Sex|Age|SibSp|Parch|Ticket|Fare|Cabin|Embarked|\n",
            "+-----------+------+----+---+---+-----+-----+------+----+-----+--------+\n",
            "|          0|     0|   0|  0| 86|    0|    0|     0|   1|  327|       0|\n",
            "+-----------+------+----+---+---+-----+-----+------+----+-----+--------+\n",
            "\n"
          ],
          "name": "stdout"
        }
      ]
    },
    {
      "cell_type": "code",
      "metadata": {
        "id": "zTnph10yKYus",
        "colab": {
          "base_uri": "https://localhost:8080/",
          "height": 204
        },
        "outputId": "b8ec635c-900e-4bb4-c5c9-1749b1f384a2"
      },
      "source": [
        "test.groupBy('Pclass', 'Sex').agg({'Age': 'mean'}).orderBy('Pclass','Sex').show()"
      ],
      "execution_count": null,
      "outputs": [
        {
          "output_type": "stream",
          "text": [
            "+------+------+------------------+\n",
            "|Pclass|   Sex|          avg(Age)|\n",
            "+------+------+------------------+\n",
            "|     1|female|41.333333333333336|\n",
            "|     1|  male|             40.52|\n",
            "|     2|female|24.376551724137933|\n",
            "|     2|  male|30.940677966101696|\n",
            "|     3|female|23.073400000000003|\n",
            "|     3|  male|24.525104166666665|\n",
            "+------+------+------------------+\n",
            "\n"
          ],
          "name": "stdout"
        }
      ]
    },
    {
      "cell_type": "code",
      "metadata": {
        "id": "aq_ee5p9goaM",
        "colab": {
          "base_uri": "https://localhost:8080/",
          "height": 459
        },
        "outputId": "15275151-1a11-41ad-98f7-6f110c56a3cd"
      },
      "source": [
        "test_ = test.withColumn('Age_', f.when((f.col('Age').isNull()) & (f.col('Pclass') == 1) & (f.col('Sex') == 'female'), 41.3)\\\n",
        "                          .when((f.col('Age').isNull()) & (f.col('Pclass') == 1) & (f.col('Sex') == 'male'), 40.5)\\\n",
        "                          .when((f.col('Age').isNull()) & (f.col('Pclass') == 2) & (f.col('Sex') == 'female'), 24.4)\\\n",
        "                          .when((f.col('Age').isNull()) & (f.col('Pclass') == 2) & (f.col('Sex') == 'male'), 30.9)\\\n",
        "                          .when((f.col('Age').isNull()) & (f.col('Pclass') == 3) & (f.col('Sex') == 'female'), 23.1)\\\n",
        "                          .when((f.col('Age').isNull()) & (f.col('Pclass') == 3) & (f.col('Sex') == 'male'), 24.5)\\\n",
        "                          .otherwise(f.col('Age')))\n",
        "test_.where((test_['Age'].isNull())).show()"
      ],
      "execution_count": null,
      "outputs": [
        {
          "output_type": "stream",
          "text": [
            "+-----------+------+--------------------+------+----+-----+-----+------------+-------+-----+--------+----+\n",
            "|PassengerId|Pclass|                Name|   Sex| Age|SibSp|Parch|      Ticket|   Fare|Cabin|Embarked|Age_|\n",
            "+-----------+------+--------------------+------+----+-----+-----+------------+-------+-----+--------+----+\n",
            "|        902|     3|    Ilieff, Mr. Ylio|  male|null|    0|    0|      349220| 7.8958| null|       S|24.5|\n",
            "|        914|     1|Flegenheim, Mrs. ...|female|null|    0|    0|    PC 17598|31.6833| null|       S|41.3|\n",
            "|        921|     3|   Samaan, Mr. Elias|  male|null|    2|    0|        2662|21.6792| null|       C|24.5|\n",
            "|        925|     3|\"Johnston, Mrs. A...|female|null|    1|    2|  W./C. 6607|  23.45| null|       S|23.1|\n",
            "|        928|     3| Roth, Miss. Sarah A|female|null|    0|    0|      342712|   8.05| null|       S|23.1|\n",
            "|        931|     3|       Hee, Mr. Ling|  male|null|    0|    0|        1601|56.4958| null|       S|24.5|\n",
            "|        933|     1|Franklin, Mr. Tho...|  male|null|    0|    0|      113778|  26.55|  D34|       S|40.5|\n",
            "|        939|     3|Shaughnessy, Mr. ...|  male|null|    0|    0|      370374|   7.75| null|       Q|24.5|\n",
            "|        946|     2|Mangiavacchi, Mr....|  male|null|    0|    0| SC/A.3 2861|15.5792| null|       C|30.9|\n",
            "|        950|     3|Davison, Mr. Thom...|  male|null|    1|    0|      386525|   16.1| null|       S|24.5|\n",
            "|        957|     2|Corey, Mrs. Percy...|female|null|    0|    0|F.C.C. 13534|   21.0| null|       S|24.4|\n",
            "|        968|     3|    Miles, Mr. Frank|  male|null|    0|    0|      359306|   8.05| null|       S|24.5|\n",
            "|        975|     3|Demetri, Mr. Marinko|  male|null|    0|    0|      349238| 7.8958| null|       S|24.5|\n",
            "|        976|     2|Lamb, Mr. John Jo...|  male|null|    0|    0|      240261|10.7083| null|       Q|30.9|\n",
            "|        977|     3|  Khalil, Mr. Betros|  male|null|    1|    0|        2660|14.4542| null|       C|24.5|\n",
            "|        980|     3|O'Donoghue, Ms. B...|female|null|    0|    0|      364856|   7.75| null|       Q|23.1|\n",
            "|        983|     3|  Pedersen, Mr. Olaf|  male|null|    0|    0|      345498|  7.775| null|       S|24.5|\n",
            "|        985|     3|   Guest, Mr. Robert|  male|null|    0|    0|      376563|   8.05| null|       S|24.5|\n",
            "|        994|     3|  Foley, Mr. William|  male|null|    0|    0|      365235|   7.75| null|       Q|24.5|\n",
            "|        999|     3|    Ryan, Mr. Edward|  male|null|    0|    0|      383162|   7.75| null|       Q|24.5|\n",
            "+-----------+------+--------------------+------+----+-----+-----+------------+-------+-----+--------+----+\n",
            "only showing top 20 rows\n",
            "\n"
          ],
          "name": "stdout"
        }
      ]
    },
    {
      "cell_type": "code",
      "metadata": {
        "id": "G5FqFLztOZ5H",
        "colab": {
          "base_uri": "https://localhost:8080/",
          "height": 255
        },
        "outputId": "fe48ead4-4d86-4565-cee6-3cb7d30647dd"
      },
      "source": [
        "# тариф, вероятно, зависит от класса каюты и порта отправления; рассчитаем ср. значение:\n",
        "test.groupBy('Pclass', 'Embarked').agg({'Fare': 'mean'}).orderBy('Embarked','Pclass').show()"
      ],
      "execution_count": null,
      "outputs": [
        {
          "output_type": "stream",
          "text": [
            "+------+--------+------------------+\n",
            "|Pclass|Embarked|         avg(Fare)|\n",
            "+------+--------+------------------+\n",
            "|     1|       C|110.07351071428572|\n",
            "|     2|       C|20.120445454545457|\n",
            "|     3|       C|           10.6587|\n",
            "|     1|       Q|              90.0|\n",
            "|     2|       Q|11.273950000000001|\n",
            "|     3|       Q| 8.998985365853658|\n",
            "|     1|       S| 76.67750400000001|\n",
            "|     2|       S|23.056089743589745|\n",
            "|     3|       S| 13.91302978723404|\n",
            "+------+--------+------------------+\n",
            "\n"
          ],
          "name": "stdout"
        }
      ]
    },
    {
      "cell_type": "code",
      "metadata": {
        "id": "3oXB5DZ0Oub6",
        "colab": {
          "base_uri": "https://localhost:8080/",
          "height": 119
        },
        "outputId": "8108d612-284a-487f-f516-8add83e492c1"
      },
      "source": [
        "# строки с пропущенными значениями:\n",
        "test_.where((test_['Fare'].isNull())).show()"
      ],
      "execution_count": null,
      "outputs": [
        {
          "output_type": "stream",
          "text": [
            "+-----------+------+------------------+----+----+-----+-----+------+----+-----+--------+----+\n",
            "|PassengerId|Pclass|              Name| Sex| Age|SibSp|Parch|Ticket|Fare|Cabin|Embarked|Age_|\n",
            "+-----------+------+------------------+----+----+-----+-----+------+----+-----+--------+----+\n",
            "|       1044|     3|Storey, Mr. Thomas|male|60.5|    0|    0|  3701|null| null|       S|60.5|\n",
            "+-----------+------+------------------+----+----+-----+-----+------+----+-----+--------+----+\n",
            "\n"
          ],
          "name": "stdout"
        }
      ]
    },
    {
      "cell_type": "code",
      "metadata": {
        "id": "jozApppIhk9c"
      },
      "source": [
        "# заполняем пропущенные значения:\n",
        "test_ = test_.withColumn('Fare_', f.when((f.col('Fare').isNull()) & (f.col('Pclass') == 3)  & (f.col('Embarked') == 'S'), 13.91)\\\n",
        "                          .otherwise(f.col('Fare')))\n",
        "# или по PassengerId (предвартельно убедившись, что нет дублей):\n",
        "# test_ = test_.withColumn('Fare_', f.when(test_['PassengerId'] == 1044, 13.91).otherwise(f.col('Fare')))"
      ],
      "execution_count": null,
      "outputs": []
    },
    {
      "cell_type": "code",
      "metadata": {
        "id": "a3NM6baVeP93",
        "colab": {
          "base_uri": "https://localhost:8080/",
          "height": 119
        },
        "outputId": "3dd171dd-6e2c-4190-a170-fc2047a81e2e"
      },
      "source": [
        "test_.where(test_['PassengerId'] == 1044).show()\n",
        "# test_.where((test_['Fare'].isNull())).show()"
      ],
      "execution_count": null,
      "outputs": [
        {
          "output_type": "stream",
          "text": [
            "+-----------+------+------------------+----+----+-----+-----+------+----+-----+--------+----+-----+\n",
            "|PassengerId|Pclass|              Name| Sex| Age|SibSp|Parch|Ticket|Fare|Cabin|Embarked|Age_|Fare_|\n",
            "+-----------+------+------------------+----+----+-----+-----+------+----+-----+--------+----+-----+\n",
            "|       1044|     3|Storey, Mr. Thomas|male|60.5|    0|    0|  3701|null| null|       S|60.5|13.91|\n",
            "+-----------+------+------------------+----+----+-----+-----+------+----+-----+--------+----+-----+\n",
            "\n"
          ],
          "name": "stdout"
        }
      ]
    },
    {
      "cell_type": "code",
      "metadata": {
        "id": "2NJBszW5PEOJ",
        "colab": {
          "base_uri": "https://localhost:8080/",
          "height": 34
        },
        "outputId": "fb297f83-b77b-4afc-cbc5-1a7cedf21b0c"
      },
      "source": [
        "# также есть нулевые значения Fare\n",
        "test.where((test['Fare'] == 0)).count()"
      ],
      "execution_count": null,
      "outputs": [
        {
          "output_type": "execute_result",
          "data": {
            "text/plain": [
              "2"
            ]
          },
          "metadata": {
            "tags": []
          },
          "execution_count": 36
        }
      ]
    },
    {
      "cell_type": "code",
      "metadata": {
        "id": "f6eAhCZaiMIP",
        "colab": {
          "base_uri": "https://localhost:8080/",
          "height": 207
        },
        "outputId": "8f1f5058-b87c-44e4-9282-c942bf441e1c"
      },
      "source": [
        "test_.describe().show()"
      ],
      "execution_count": null,
      "outputs": [
        {
          "output_type": "stream",
          "text": [
            "+-------+------------------+------------------+--------------------+------+------------------+------------------+------------------+------------------+------------------+-----+--------+-----------------+-----------------+\n",
            "|summary|       PassengerId|            Pclass|                Name|   Sex|               Age|             SibSp|             Parch|            Ticket|              Fare|Cabin|Embarked|             Age_|            Fare_|\n",
            "+-------+------------------+------------------+--------------------+------+------------------+------------------+------------------+------------------+------------------+-----+--------+-----------------+-----------------+\n",
            "|  count|               418|               418|                 418|   418|               332|               418|               418|               418|               417|   91|     418|              418|              418|\n",
            "|   mean|            1100.5|2.2655502392344498|                null|  null|30.272590361445783|0.4473684210526316|0.3923444976076555|223850.98986486485|  35.6271884892086| null|    null|29.42057416267944|35.57523349282293|\n",
            "| stddev|120.81045760473994|0.8418375519640503|                null|  null|14.181209235624424|0.8967595611217135|0.9814288785371694| 369523.7764694362|55.907576179973844| null|    null|12.96298906583145|55.85060259527275|\n",
            "|    min|               892|                 1|\"Assaf Khalil, Mr...|female|              0.17|                 0|                 0|            110469|               0.0|  A11|       C|             0.17|              0.0|\n",
            "|    max|              1309|                 3|van Billiard, Mas...|  male|              76.0|                 8|                 9|       W.E.P. 5734|          512.3292|   G6|       S|             76.0|         512.3292|\n",
            "+-------+------------------+------------------+--------------------+------+------------------+------------------+------------------+------------------+------------------+-----+--------+-----------------+-----------------+\n",
            "\n"
          ],
          "name": "stdout"
        }
      ]
    },
    {
      "cell_type": "code",
      "metadata": {
        "id": "TcbPT2wcmPHP"
      },
      "source": [
        "from pyspark.sql.functions import col"
      ],
      "execution_count": null,
      "outputs": []
    },
    {
      "cell_type": "code",
      "metadata": {
        "id": "GMU55lHwj0EF",
        "colab": {
          "base_uri": "https://localhost:8080/",
          "height": 170
        },
        "outputId": "a132767a-26d4-45b7-80df-d365d74814fa"
      },
      "source": [
        "# оставляем только нужные столбцы (для учебного примера пренебрегаем возможным влиянием на выживаемость таких переменных как Cabin, Name, Ticket)\n",
        "train_ml = train_.select(col('Pclass'), col('Sex'), col('Age_').alias('Age'), col('SibSp'), col('Parch'), col('Fare'), col('Embarked_').alias('Embarked'), col('Survived'))\n",
        "train_ml.show(3)"
      ],
      "execution_count": null,
      "outputs": [
        {
          "output_type": "stream",
          "text": [
            "+------+------+----+-----+-----+-------+--------+--------+\n",
            "|Pclass|   Sex| Age|SibSp|Parch|   Fare|Embarked|Survived|\n",
            "+------+------+----+-----+-----+-------+--------+--------+\n",
            "|     3|  male|22.0|    1|    0|   7.25|       S|       0|\n",
            "|     1|female|38.0|    1|    0|71.2833|       C|       1|\n",
            "|     3|female|26.0|    0|    0|  7.925|       S|       1|\n",
            "+------+------+----+-----+-----+-------+--------+--------+\n",
            "only showing top 3 rows\n",
            "\n"
          ],
          "name": "stdout"
        }
      ]
    },
    {
      "cell_type": "code",
      "metadata": {
        "id": "bmoFQBlZmvbb"
      },
      "source": [
        "# test_.show(3)"
      ],
      "execution_count": null,
      "outputs": []
    },
    {
      "cell_type": "code",
      "metadata": {
        "id": "mqTBYHuotdno"
      },
      "source": [
        "# в тестовой выборке отсутсвует столбец Survived, добавляем его\n",
        "test_ = test_.withColumn('Survived', lit(0))"
      ],
      "execution_count": null,
      "outputs": []
    },
    {
      "cell_type": "code",
      "metadata": {
        "id": "JWF5LKeAm8b3",
        "colab": {
          "base_uri": "https://localhost:8080/",
          "height": 136
        },
        "outputId": "d3e0efad-e8be-434d-98b3-b027f31f9885"
      },
      "source": [
        "test_ml = test_.select(col('Pclass'), col('Sex'), col('Age_').alias('Age'), col('SibSp'), col('Parch'), col('Fare_').alias('Fare'), col('Embarked'), col('Survived'))\n",
        "test_ml.show(1)"
      ],
      "execution_count": null,
      "outputs": [
        {
          "output_type": "stream",
          "text": [
            "+------+----+----+-----+-----+------+--------+--------+\n",
            "|Pclass| Sex| Age|SibSp|Parch|  Fare|Embarked|Survived|\n",
            "+------+----+----+-----+-----+------+--------+--------+\n",
            "|     3|male|34.5|    0|    0|7.8292|       Q|       0|\n",
            "+------+----+----+-----+-----+------+--------+--------+\n",
            "only showing top 1 row\n",
            "\n"
          ],
          "name": "stdout"
        }
      ]
    },
    {
      "cell_type": "markdown",
      "metadata": {
        "id": "W6yfUEEuoXCZ"
      },
      "source": [
        "Preparing Data for Machine Learning"
      ]
    },
    {
      "cell_type": "code",
      "metadata": {
        "id": "6m-VRYT5ouQn",
        "colab": {
          "base_uri": "https://localhost:8080/",
          "height": 187
        },
        "outputId": "297281f0-38df-42bb-b439-3b85ab47dfa9"
      },
      "source": [
        "train_ml.printSchema()"
      ],
      "execution_count": null,
      "outputs": [
        {
          "output_type": "stream",
          "text": [
            "root\n",
            " |-- Pclass: integer (nullable = true)\n",
            " |-- Sex: string (nullable = true)\n",
            " |-- Age: double (nullable = true)\n",
            " |-- SibSp: integer (nullable = true)\n",
            " |-- Parch: integer (nullable = true)\n",
            " |-- Fare: double (nullable = true)\n",
            " |-- Embarked: string (nullable = true)\n",
            " |-- Survived: integer (nullable = true)\n",
            "\n"
          ],
          "name": "stdout"
        }
      ]
    },
    {
      "cell_type": "code",
      "metadata": {
        "id": "YpaiT7lyun55"
      },
      "source": [
        "cols = train_ml.columns"
      ],
      "execution_count": null,
      "outputs": []
    },
    {
      "cell_type": "code",
      "metadata": {
        "id": "HYRODWbrnu5J"
      },
      "source": [
        "# from pyspark.ml.feature import OneHotEncoderEstimator, StringIndexer, VectorAssembler\n",
        "\n",
        "categoricalColumns = ['Sex', 'Embarked']\n",
        "stages = []\n",
        "\n",
        "for categoricalCol in categoricalColumns:\n",
        "    stringIndexer = StringIndexer(inputCol = categoricalCol, outputCol = categoricalCol + 'Index')\n",
        "    encoder = OneHotEncoderEstimator(inputCols=[stringIndexer.getOutputCol()], outputCols=[categoricalCol + \"classVec\"])\n",
        "    stages += [stringIndexer, encoder]\n",
        "\n",
        "label_stringIdx = StringIndexer(inputCol = 'Survived', outputCol = 'label')\n",
        "stages += [label_stringIdx]\n",
        "\n",
        "numericCols = ['Pclass', 'Age', 'SibSp', 'Parch', 'Fare']\n",
        "assemblerInputs = [c + \"classVec\" for c in categoricalColumns] + numericCols\n",
        "assembler = VectorAssembler(inputCols=assemblerInputs, outputCol=\"features\")\n",
        "stages += [assembler]"
      ],
      "execution_count": null,
      "outputs": []
    },
    {
      "cell_type": "markdown",
      "metadata": {
        "id": "Y6NGSx2Zua_V"
      },
      "source": [
        "Pipeline"
      ]
    },
    {
      "cell_type": "code",
      "metadata": {
        "id": "FKVWM7xgxZ3N",
        "colab": {
          "base_uri": "https://localhost:8080/",
          "height": 221
        },
        "outputId": "20877250-004e-4c05-c934-6eb8c26df821"
      },
      "source": [
        "# from pyspark.ml import Pipeline\n",
        "pipeline = Pipeline(stages = stages)\n",
        "pipelineModel = pipeline.fit(train_ml)\n",
        "df = pipelineModel.transform(train_ml)\n",
        "selectedCols = ['label', 'features'] + cols\n",
        "train = df.select(selectedCols)\n",
        "train.printSchema()"
      ],
      "execution_count": null,
      "outputs": [
        {
          "output_type": "stream",
          "text": [
            "root\n",
            " |-- label: double (nullable = false)\n",
            " |-- features: vector (nullable = true)\n",
            " |-- Pclass: integer (nullable = true)\n",
            " |-- Sex: string (nullable = true)\n",
            " |-- Age: double (nullable = true)\n",
            " |-- SibSp: integer (nullable = true)\n",
            " |-- Parch: integer (nullable = true)\n",
            " |-- Fare: double (nullable = true)\n",
            " |-- Embarked: string (nullable = true)\n",
            " |-- Survived: integer (nullable = true)\n",
            "\n"
          ],
          "name": "stdout"
        }
      ]
    },
    {
      "cell_type": "code",
      "metadata": {
        "id": "kTfDAQX-yCrP",
        "colab": {
          "base_uri": "https://localhost:8080/",
          "height": 204
        },
        "outputId": "6588e5a7-451b-454f-e858-feb25015c052"
      },
      "source": [
        "train.show(5)"
      ],
      "execution_count": null,
      "outputs": [
        {
          "output_type": "stream",
          "text": [
            "+-----+--------------------+------+------+----+-----+-----+-------+--------+--------+\n",
            "|label|            features|Pclass|   Sex| Age|SibSp|Parch|   Fare|Embarked|Survived|\n",
            "+-----+--------------------+------+------+----+-----+-----+-------+--------+--------+\n",
            "|  0.0|[1.0,1.0,0.0,3.0,...|     3|  male|22.0|    1|    0|   7.25|       S|       0|\n",
            "|  1.0|[0.0,0.0,1.0,1.0,...|     1|female|38.0|    1|    0|71.2833|       C|       1|\n",
            "|  1.0|(8,[1,3,4,7],[1.0...|     3|female|26.0|    0|    0|  7.925|       S|       1|\n",
            "|  1.0|[0.0,1.0,0.0,1.0,...|     1|female|35.0|    1|    0|   53.1|       S|       1|\n",
            "|  0.0|[1.0,1.0,0.0,3.0,...|     3|  male|35.0|    0|    0|   8.05|       S|       0|\n",
            "+-----+--------------------+------+------+----+-----+-----+-------+--------+--------+\n",
            "only showing top 5 rows\n",
            "\n"
          ],
          "name": "stdout"
        }
      ]
    },
    {
      "cell_type": "code",
      "metadata": {
        "id": "a3S_5usvze1U",
        "colab": {
          "base_uri": "https://localhost:8080/",
          "height": 221
        },
        "outputId": "ce631cb9-a822-4826-9854-501af50ea962"
      },
      "source": [
        "pipeline1 = Pipeline(stages = stages)\n",
        "pipelineModel1 = pipeline1.fit(test_ml)\n",
        "df1 = pipelineModel1.transform(test_ml)\n",
        "selectedCols = ['label', 'features'] + cols\n",
        "test = df1.select(selectedCols)\n",
        "test.printSchema()"
      ],
      "execution_count": null,
      "outputs": [
        {
          "output_type": "stream",
          "text": [
            "root\n",
            " |-- label: double (nullable = false)\n",
            " |-- features: vector (nullable = true)\n",
            " |-- Pclass: integer (nullable = true)\n",
            " |-- Sex: string (nullable = true)\n",
            " |-- Age: double (nullable = true)\n",
            " |-- SibSp: integer (nullable = true)\n",
            " |-- Parch: integer (nullable = true)\n",
            " |-- Fare: double (nullable = true)\n",
            " |-- Embarked: string (nullable = true)\n",
            " |-- Survived: integer (nullable = false)\n",
            "\n"
          ],
          "name": "stdout"
        }
      ]
    },
    {
      "cell_type": "code",
      "metadata": {
        "id": "mVbYIEdzzsye",
        "colab": {
          "base_uri": "https://localhost:8080/",
          "height": 204
        },
        "outputId": "274ffed7-89ed-4bec-9d6c-c2167b5e0de1"
      },
      "source": [
        "test.show(5)"
      ],
      "execution_count": null,
      "outputs": [
        {
          "output_type": "stream",
          "text": [
            "+-----+--------------------+------+------+----+-----+-----+-------+--------+--------+\n",
            "|label|            features|Pclass|   Sex| Age|SibSp|Parch|   Fare|Embarked|Survived|\n",
            "+-----+--------------------+------+------+----+-----+-----+-------+--------+--------+\n",
            "|  0.0|(8,[0,3,4,7],[1.0...|     3|  male|34.5|    0|    0| 7.8292|       Q|       0|\n",
            "|  0.0|[0.0,1.0,0.0,3.0,...|     3|female|47.0|    1|    0|    7.0|       S|       0|\n",
            "|  0.0|(8,[0,3,4,7],[1.0...|     2|  male|62.0|    0|    0| 9.6875|       Q|       0|\n",
            "|  0.0|[1.0,1.0,0.0,3.0,...|     3|  male|27.0|    0|    0| 8.6625|       S|       0|\n",
            "|  0.0|[0.0,1.0,0.0,3.0,...|     3|female|22.0|    1|    1|12.2875|       S|       0|\n",
            "+-----+--------------------+------+------+----+-----+-----+-------+--------+--------+\n",
            "only showing top 5 rows\n",
            "\n"
          ],
          "name": "stdout"
        }
      ]
    },
    {
      "cell_type": "markdown",
      "metadata": {
        "id": "QCyfDe9Cv4Q8"
      },
      "source": [
        "Logistic Regression Model"
      ]
    },
    {
      "cell_type": "code",
      "metadata": {
        "id": "m7p6wIIDv4RB"
      },
      "source": [
        "lr = LogisticRegression(featuresCol = 'features', labelCol = 'label', maxIter=10)\n",
        "lrModel = lr.fit(train)"
      ],
      "execution_count": null,
      "outputs": []
    },
    {
      "cell_type": "code",
      "metadata": {
        "id": "9Yiycxu_mki-",
        "colab": {
          "base_uri": "https://localhost:8080/",
          "height": 265
        },
        "outputId": "2a74dd46-66d5-4b16-f285-6ef40f8e1e90"
      },
      "source": [
        "# We can obtain the coefficients by using LogisticRegressionModel’s attributes.\n",
        "import matplotlib.pyplot as plt\n",
        "import numpy as np\n",
        "beta = np.sort(lrModel.coefficients)\n",
        "plt.plot(beta)\n",
        "plt.ylabel('Beta Coefficients')\n",
        "plt.show()"
      ],
      "execution_count": null,
      "outputs": [
        {
          "output_type": "display_data",
          "data": {
            "image/png": "[encoded data removed]",
            "text/plain": [
              "<Figure size 432x288 with 1 Axes>"
            ]
          },
          "metadata": {
            "tags": [],
            "needs_background": "light"
          }
        }
      ]
    },
    {
      "cell_type": "code",
      "metadata": {
        "id": "553CLEG3mkjS",
        "colab": {
          "base_uri": "https://localhost:8080/",
          "height": 312
        },
        "outputId": "84035189-9a3c-47e0-df35-1d2316b63195"
      },
      "source": [
        "#  Summarize the model over the training set, we can also obtain the receiver-operating characteristic and areaUnderROC.\n",
        "trainingSummary = lrModel.summary\n",
        "\n",
        "roc = trainingSummary.roc.toPandas() \n",
        "plt.plot(roc['FPR'],roc['TPR'])\n",
        "plt.ylabel('False Positive Rate')\n",
        "plt.xlabel('True Positive Rate')\n",
        "plt.title('ROC Curve')\n",
        "plt.show()\n",
        "\n",
        "print('Training set areaUnderROC: ' + str(trainingSummary.areaUnderROC))"
      ],
      "execution_count": null,
      "outputs": [
        {
          "output_type": "display_data",
          "data": {
            "image/png": "[encoded data removed]",
            "text/plain": [
              "<Figure size 432x288 with 1 Axes>"
            ]
          },
          "metadata": {
            "tags": [],
            "needs_background": "light"
          }
        },
        {
          "output_type": "stream",
          "text": [
            "Training set areaUnderROC: 0.8459426495808433\n"
          ],
          "name": "stdout"
        }
      ]
    },
    {
      "cell_type": "code",
      "metadata": {
        "id": "oYFNY8t2mkjV",
        "colab": {
          "base_uri": "https://localhost:8080/",
          "height": 279
        },
        "outputId": "f5182472-87d6-4e2c-881d-8cb5bfedeedf"
      },
      "source": [
        "# Precision and Recall\n",
        "f = trainingSummary.fMeasureByThreshold.toPandas() # AttributeError: 'LogisticRegressionTrainingSummary' object has no attribute 'fMeasureByThreshold'\n",
        "plt.plot(f['threshold'],f['F-Measure'])\n",
        "plt.ylabel('F-Measure')\n",
        "plt.xlabel('Threshold')\n",
        "plt.show()"
      ],
      "execution_count": null,
      "outputs": [
        {
          "output_type": "display_data",
          "data": {
            "image/png": "[encoded data removed]",
            "text/plain": [
              "<Figure size 432x288 with 1 Axes>"
            ]
          },
          "metadata": {
            "tags": [],
            "needs_background": "light"
          }
        }
      ]
    },
    {
      "cell_type": "markdown",
      "metadata": {
        "id": "HDDsIDQeyttU"
      },
      "source": [
        "Make predictions on the test set"
      ]
    },
    {
      "cell_type": "code",
      "metadata": {
        "id": "moVLIlM-yttW",
        "colab": {
          "base_uri": "https://localhost:8080/",
          "height": 289
        },
        "outputId": "934cef66-219b-4b7e-e790-02e309320f36"
      },
      "source": [
        "predictions = lrModel.transform(test)\n",
        "predictions.show(10)"
      ],
      "execution_count": null,
      "outputs": [
        {
          "output_type": "stream",
          "text": [
            "+-----+--------------------+------+------+----+-----+-----+-------+--------+--------+--------------------+--------------------+----------+\n",
            "|label|            features|Pclass|   Sex| Age|SibSp|Parch|   Fare|Embarked|Survived|       rawPrediction|         probability|prediction|\n",
            "+-----+--------------------+------+------+----+-----+-----+-------+--------+--------+--------------------+--------------------+----------+\n",
            "|  0.0|(8,[0,3,4,7],[1.0...|     3|  male|34.5|    0|    0| 7.8292|       Q|       0|[3.94177506301940...|[0.98095599155573...|       0.0|\n",
            "|  0.0|[0.0,1.0,0.0,3.0,...|     3|female|47.0|    1|    0|    7.0|       S|       0|[0.45499502303953...|[0.61182618699964...|       0.0|\n",
            "|  0.0|(8,[0,3,4,7],[1.0...|     2|  male|62.0|    0|    0| 9.6875|       Q|       0|[4.02389267516645...|[0.98243097494281...|       0.0|\n",
            "|  0.0|[1.0,1.0,0.0,3.0,...|     3|  male|27.0|    0|    0| 8.6625|       S|       0|[1.98714635951585...|[0.87944090890554...|       0.0|\n",
            "|  0.0|[0.0,1.0,0.0,3.0,...|     3|female|22.0|    1|    1|12.2875|       S|       0|[-0.5288650823900...|[0.37078162842274...|       1.0|\n",
            "|  0.0|[1.0,1.0,0.0,3.0,...|     3|  male|14.0|    0|    0|  9.225|       S|       0|[1.41291029319860...|[0.80422456750196...|       0.0|\n",
            "|  0.0|(8,[3,4,7],[3.0,3...|     3|female|30.0|    0|    0| 7.6292|       Q|       0|[0.93882795147541...|[0.71886284829163...|       0.0|\n",
            "|  0.0|[1.0,1.0,0.0,2.0,...|     2|  male|26.0|    1|    1|   29.0|       S|       0|[1.31248906563853...|[0.78792936855316...|       0.0|\n",
            "|  0.0|(8,[2,3,4,7],[1.0...|     3|female|18.0|    0|    0| 7.2292|       C|       0|[-1.1158087535047...|[0.24678954408171...|       1.0|\n",
            "|  0.0|[1.0,1.0,0.0,3.0,...|     3|  male|21.0|    2|    0|  24.15|       S|       0|[2.49105482886797...|[0.92351234619775...|       0.0|\n",
            "+-----+--------------------+------+------+----+-----+-----+-------+--------+--------+--------------------+--------------------+----------+\n",
            "only showing top 10 rows\n",
            "\n"
          ],
          "name": "stdout"
        }
      ]
    },
    {
      "cell_type": "code",
      "metadata": {
        "id": "kGt9bl-oytta",
        "colab": {
          "base_uri": "https://localhost:8080/",
          "height": 34
        },
        "outputId": "0f1b4a73-94a7-4d7d-ee7b-7bcac69fe093"
      },
      "source": [
        "evaluator = MulticlassClassificationEvaluator()\n",
        "print('Test Area Under ROC', '%.3f' % evaluator.evaluate(predictions))"
      ],
      "execution_count": null,
      "outputs": [
        {
          "output_type": "stream",
          "text": [
            "Test Area Under ROC 0.809\n"
          ],
          "name": "stdout"
        }
      ]
    },
    {
      "cell_type": "code",
      "metadata": {
        "id": "YY2K8zeDEgR0"
      },
      "source": [
        "# для варианта замены ср. возраста средним для класса каюты (без учета пола пассажира) : Test Area Under ROC 0.7830761787000697"
      ],
      "execution_count": null,
      "outputs": []
    }
  ]
}