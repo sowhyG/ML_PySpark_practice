{
  "nbformat": 4,
  "nbformat_minor": 0,
  "metadata": {
    "colab": {
      "name": "Spark_Practice2_hw-iris.ipynb",
      "provenance": [],
      "collapsed_sections": []
    },
    "kernelspec": {
      "name": "python3",
      "display_name": "Python 3"
    }
  },
  "cells": [
    {
      "cell_type": "code",
      "metadata": {
        "id": "d4M4Z0nShzFp",
        "cellView": "both"
      },
      "source": [
        "!apt-get install openjdk-8-jdk-headless -qq > /dev/null"
      ],
      "execution_count": null,
      "outputs": []
    },
    {
      "cell_type": "code",
      "metadata": {
        "id": "-0Vd_6bEh1N_",
        "cellView": "both"
      },
      "source": [
        "!wget -q www-us.apache.org/dist/spark/spark-2.4.5/spark-2.4.5-bin-hadoop2.7.tgz"
      ],
      "execution_count": null,
      "outputs": []
    },
    {
      "cell_type": "code",
      "metadata": {
        "id": "vwfA5qXyh2wk",
        "cellView": "both"
      },
      "source": [
        "!tar -xvf spark-2.4.5-bin-hadoop2.7.tgz"
      ],
      "execution_count": null,
      "outputs": []
    },
    {
      "cell_type": "code",
      "metadata": {
        "id": "qN78xI2Ah4AA",
        "cellView": "both"
      },
      "source": [
        "!pip install -q findspark"
      ],
      "execution_count": null,
      "outputs": []
    },
    {
      "cell_type": "code",
      "metadata": {
        "id": "CgKVxnQnh52S",
        "cellView": "both"
      },
      "source": [
        "import os\n",
        "os.environ[\"JAVA_HOME\"] = \"/usr/lib/jvm/java-8-openjdk-amd64\"\n",
        "os.environ[\"SPARK_HOME\"] = \"/content/spark-2.4.5-bin-hadoop2.7\""
      ],
      "execution_count": null,
      "outputs": []
    },
    {
      "cell_type": "code",
      "metadata": {
        "id": "TL0Uk0Cxh7Kt",
        "cellView": "both"
      },
      "source": [
        "import findspark\n",
        "findspark.init()\n",
        "from pyspark.sql import SparkSession\n",
        "\n",
        "spark = SparkSession.builder.master(\"local[*]\").getOrCreate()"
      ],
      "execution_count": null,
      "outputs": []
    },
    {
      "cell_type": "markdown",
      "metadata": {
        "id": "obwnZJkDkVNe"
      },
      "source": [
        "**Домашнее задание**\n",
        "\n",
        "2 варианта.\n",
        "\n",
        "Вариант легкий: \n",
        "Решите задачу классификации цветков ирисов с использованием PySpark\n",
        "\n",
        "Вариант сложный: \n",
        "Решите задачу классификации пассажиров титаника с использованием PySpark (https://www.kaggle.com/c/titanic)\n",
        "\n",
        "При выполнении ДЗ не разрешается:\n",
        "* Использовать библиотеку pandas\n",
        "* Использовать библиотеку sklearn\n",
        "\n",
        "Полезные импорты:\n",
        "* from pyspark.ml.classification import LogisticRegression\n",
        "* from pyspark.ml.evaluation import MulticlassClassificationEvaluator - для оценки качества работы алгоритма\n",
        "* from pyspark.ml.feature import StringIndexer, OneHotEncoder, VectorAssembler - для предобработки признаков\n",
        "\n",
        "Полезные ссылки:\n",
        "\n",
        "https://spark.apache.org/docs/latest/ml-classification-regression.html#classification - алгоримты классификации в pyspark\n",
        "\n",
        "https://towardsdatascience.com/machine-learning-with-pyspark-and-mllib-solving-a-binary-classification-problem-96396065d2aa - пример решения задачи классификации на pyspark"
      ]
    },
    {
      "cell_type": "code",
      "metadata": {
        "id": "JOtw1ZcnUrCt"
      },
      "source": [
        "from pyspark.ml.feature import StringIndexer, OneHotEncoderEstimator, VectorAssembler # для предобработки признаков\n",
        "from pyspark.ml import Pipeline\n",
        "from pyspark.ml.classification import LogisticRegression\n",
        "from pyspark.ml.evaluation import MulticlassClassificationEvaluator # для оценки качества работы алгоритма"
      ],
      "execution_count": null,
      "outputs": []
    },
    {
      "cell_type": "markdown",
      "metadata": {
        "id": "H0nJsrfHhzKG"
      },
      "source": [
        "**Iris Dataset**\n"
      ]
    },
    {
      "cell_type": "code",
      "metadata": {
        "id": "JibG4eHRlWbG"
      },
      "source": [
        "iris = spark.read.csv('iris.csv', inferSchema=True, header=True)"
      ],
      "execution_count": null,
      "outputs": []
    },
    {
      "cell_type": "code",
      "metadata": {
        "id": "xIhP8xnFG7ej",
        "colab": {
          "base_uri": "https://localhost:8080/",
          "height": 136
        },
        "outputId": "a645897d-69c5-4419-dd3a-c31c0c19881e"
      },
      "source": [
        "iris.printSchema()"
      ],
      "execution_count": null,
      "outputs": [
        {
          "output_type": "stream",
          "text": [
            "root\n",
            " |-- sepal_length: double (nullable = true)\n",
            " |-- sepal_width: double (nullable = true)\n",
            " |-- petal_length: double (nullable = true)\n",
            " |-- petal_width: double (nullable = true)\n",
            " |-- variety: string (nullable = true)\n",
            "\n"
          ],
          "name": "stdout"
        }
      ]
    },
    {
      "cell_type": "code",
      "metadata": {
        "id": "hnJbFq1dE2Cn",
        "colab": {
          "base_uri": "https://localhost:8080/",
          "height": 170
        },
        "outputId": "b78243de-ea22-4e4e-d385-0eb07ed1bf9b"
      },
      "source": [
        "iris.show(3)"
      ],
      "execution_count": null,
      "outputs": [
        {
          "output_type": "stream",
          "text": [
            "+------------+-----------+------------+-----------+-------+\n",
            "|sepal_length|sepal_width|petal_length|petal_width|variety|\n",
            "+------------+-----------+------------+-----------+-------+\n",
            "|         5.1|        3.5|         1.4|        0.2| Setosa|\n",
            "|         4.9|        3.0|         1.4|        0.2| Setosa|\n",
            "|         4.7|        3.2|         1.3|        0.2| Setosa|\n",
            "+------------+-----------+------------+-----------+-------+\n",
            "only showing top 3 rows\n",
            "\n"
          ],
          "name": "stdout"
        }
      ]
    },
    {
      "cell_type": "code",
      "metadata": {
        "id": "L5WPhosfl4ik",
        "colab": {
          "base_uri": "https://localhost:8080/",
          "height": 187
        },
        "outputId": "7e60f2f6-1762-4010-b25a-37af34502ae3"
      },
      "source": [
        "# основные статистики и наличие пропущенных значений:\n",
        "iris.describe().show()"
      ],
      "execution_count": null,
      "outputs": [
        {
          "output_type": "stream",
          "text": [
            "+-------+------------------+-------------------+------------------+------------------+---------+\n",
            "|summary|      sepal_length|        sepal_width|      petal_length|       petal_width|  variety|\n",
            "+-------+------------------+-------------------+------------------+------------------+---------+\n",
            "|  count|               150|                150|               150|               150|      150|\n",
            "|   mean| 5.843333333333335|  3.057333333333334|3.7580000000000027| 1.199333333333334|     null|\n",
            "| stddev|0.8280661279778637|0.43586628493669793|1.7652982332594662|0.7622376689603467|     null|\n",
            "|    min|               4.3|                2.0|               1.0|               0.1|   Setosa|\n",
            "|    max|               7.9|                4.4|               6.9|               2.5|Virginica|\n",
            "+-------+------------------+-------------------+------------------+------------------+---------+\n",
            "\n"
          ],
          "name": "stdout"
        }
      ]
    },
    {
      "cell_type": "markdown",
      "metadata": {
        "id": "S1CxUyL1VjEC"
      },
      "source": [
        "Preparing Data for Machine Learning"
      ]
    },
    {
      "cell_type": "code",
      "metadata": {
        "id": "J79XYP4MO2aE"
      },
      "source": [
        "stages = []\n",
        "label_stringIdx = StringIndexer(inputCol = 'variety', outputCol = 'label')\n",
        "stages += [label_stringIdx]\n",
        "\n",
        "numericCols = ['sepal_length', 'sepal_width', 'petal_length', 'petal_width']\n",
        "assemblerInputs = numericCols\n",
        "assembler = VectorAssembler(inputCols=assemblerInputs, outputCol=\"features\")\n",
        "stages += [assembler]"
      ],
      "execution_count": null,
      "outputs": []
    },
    {
      "cell_type": "markdown",
      "metadata": {
        "id": "0YYcRDoIYUiS"
      },
      "source": [
        "Pipeline"
      ]
    },
    {
      "cell_type": "code",
      "metadata": {
        "id": "yCCHpGOHUYGJ"
      },
      "source": [
        "cols = iris.columns"
      ],
      "execution_count": null,
      "outputs": []
    },
    {
      "cell_type": "code",
      "metadata": {
        "id": "w3S7UkIZW-50",
        "colab": {
          "base_uri": "https://localhost:8080/",
          "height": 170
        },
        "outputId": "0e85ff88-65af-427a-d372-b10ded26b1eb"
      },
      "source": [
        "pipeline = Pipeline(stages = stages)\n",
        "pipelineModel = pipeline.fit(iris)\n",
        "df = pipelineModel.transform(iris)\n",
        "selectedCols = ['label', 'features'] + cols\n",
        "df = df.select(selectedCols)\n",
        "df.printSchema()"
      ],
      "execution_count": null,
      "outputs": [
        {
          "output_type": "stream",
          "text": [
            "root\n",
            " |-- label: double (nullable = false)\n",
            " |-- features: vector (nullable = true)\n",
            " |-- sepal_length: double (nullable = true)\n",
            " |-- sepal_width: double (nullable = true)\n",
            " |-- petal_length: double (nullable = true)\n",
            " |-- petal_width: double (nullable = true)\n",
            " |-- variety: string (nullable = true)\n",
            "\n"
          ],
          "name": "stdout"
        }
      ]
    },
    {
      "cell_type": "code",
      "metadata": {
        "id": "g42MBcFrQkJy",
        "colab": {
          "base_uri": "https://localhost:8080/",
          "height": 51
        },
        "outputId": "ef7aee7e-0e37-4194-8748-3be0d2f4ad59"
      },
      "source": [
        "(train, test) = df.randomSplit([0.7, 0.3], seed = 100) # seed - параметр для воспроизводимости разделения\n",
        "print(\"Training Dataset Count: \" + str(train.count()))\n",
        "print(\"Test Dataset Count: \" + str(test.count()))\n",
        "\n",
        "# параметры метода:\n",
        "# randomSplit(weights, seed=None)\n",
        "# Randomly splits this DataFrame with the provided weights.\n",
        "# Parameters:\t\n",
        "# weights – list of doubles as weights with which to split the DataFrame. Weights will be normalized if they don’t sum up to 1.0.\n",
        "# seed – The seed for sampling."
      ],
      "execution_count": null,
      "outputs": [
        {
          "output_type": "stream",
          "text": [
            "Training Dataset Count: 103\n",
            "Test Dataset Count: 47\n"
          ],
          "name": "stdout"
        }
      ]
    },
    {
      "cell_type": "markdown",
      "metadata": {
        "id": "KlyoEpyKRdkp"
      },
      "source": [
        "Logistic Regression Model"
      ]
    },
    {
      "cell_type": "code",
      "metadata": {
        "id": "Ej5CHEwuRgep"
      },
      "source": [
        "lr = LogisticRegression(featuresCol = 'features', labelCol = 'label', maxIter=10)\n",
        "lrModel = lr.fit(train)"
      ],
      "execution_count": null,
      "outputs": []
    },
    {
      "cell_type": "markdown",
      "metadata": {
        "id": "Tk_k5-UQU6ay"
      },
      "source": [
        "Make predictions on the test set"
      ]
    },
    {
      "cell_type": "code",
      "metadata": {
        "id": "G-AP8KX-Qksh",
        "colab": {
          "base_uri": "https://localhost:8080/",
          "height": 289
        },
        "outputId": "a64a85b2-4a1f-4a55-82d7-707410becd33"
      },
      "source": [
        "predictions = lrModel.transform(test)\n",
        "predictions.show(10)"
      ],
      "execution_count": null,
      "outputs": [
        {
          "output_type": "stream",
          "text": [
            "+-----+-----------------+------------+-----------+------------+-----------+---------+--------------------+--------------------+----------+\n",
            "|label|         features|sepal_length|sepal_width|petal_length|petal_width|  variety|       rawPrediction|         probability|prediction|\n",
            "+-----+-----------------+------------+-----------+------------+-----------+---------+--------------------+--------------------+----------+\n",
            "|  0.0|[5.8,2.7,5.1,1.9]|         5.8|        2.7|         5.1|        1.9|Virginica|[9.35042575194685...|[0.97384677344424...|       0.0|\n",
            "|  0.0|[6.0,2.2,5.0,1.5]|         6.0|        2.2|         5.0|        1.5|Virginica|[10.1267477518120...|[0.92536200916523...|       0.0|\n",
            "|  0.0|[6.0,3.0,4.8,1.8]|         6.0|        3.0|         4.8|        1.8|Virginica|[6.23132593810634...|[0.64331785535649...|       0.0|\n",
            "|  0.0|[6.1,2.6,5.6,1.4]|         6.1|        2.6|         5.6|        1.4|Virginica|[8.14063822205556...|[0.70054278256136...|       0.0|\n",
            "|  0.0|[6.3,2.8,5.1,1.5]|         6.3|        2.8|         5.1|        1.5|Virginica|[6.55905845896640...|[0.36977612109692...|       1.0|\n",
            "|  0.0|[6.3,3.4,5.6,2.4]|         6.3|        3.4|         5.6|        2.4|Virginica|[9.34344761160973...|[0.98884366039542...|       0.0|\n",
            "|  0.0|[6.4,2.7,5.3,1.9]|         6.4|        2.7|         5.3|        1.9|Virginica|[10.3152308771375...|[0.96473885174217...|       0.0|\n",
            "|  0.0|[6.4,2.8,5.6,2.2]|         6.4|        2.8|         5.6|        2.2|Virginica|[12.1996339678573...|[0.99673199932810...|       0.0|\n",
            "|  0.0|[6.5,3.0,5.5,1.8]|         6.5|        3.0|         5.5|        1.8|Virginica|[8.16036246482584...|[0.79519346784911...|       0.0|\n",
            "|  0.0|[6.5,3.0,5.8,2.2]|         6.5|        3.0|         5.8|        2.2|Virginica|[11.3619767834902...|[0.99346004125322...|       0.0|\n",
            "+-----+-----------------+------------+-----------+------------+-----------+---------+--------------------+--------------------+----------+\n",
            "only showing top 10 rows\n",
            "\n"
          ],
          "name": "stdout"
        }
      ]
    },
    {
      "cell_type": "code",
      "metadata": {
        "id": "x4G9-jf7YSqV",
        "colab": {
          "base_uri": "https://localhost:8080/",
          "height": 34
        },
        "outputId": "ef2c1010-ab88-470b-f112-8967c9ba5586"
      },
      "source": [
        "evaluator = MulticlassClassificationEvaluator()\n",
        "print('Test Area Under ROC', '%.3f' % evaluator.evaluate(predictions))"
      ],
      "execution_count": null,
      "outputs": [
        {
          "output_type": "stream",
          "text": [
            "Test Area Under ROC 0.895\n"
          ],
          "name": "stdout"
        }
      ]
    }
  ]
}